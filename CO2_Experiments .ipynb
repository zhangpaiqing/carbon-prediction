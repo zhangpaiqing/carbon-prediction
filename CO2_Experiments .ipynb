{
 "cells": [
  {
   "cell_type": "markdown",
   "metadata": {},
   "source": [
    "# 环境"
   ]
  },
  {
   "cell_type": "code",
   "execution_count": 1,
   "metadata": {},
   "outputs": [
    {
     "name": "stdout",
     "output_type": "stream",
     "text": [
      "3.7.6 (default, Jan  8 2020, 20:23:39) [MSC v.1916 64 bit (AMD64)]\n"
     ]
    }
   ],
   "source": [
    "import sys\n",
    "print(sys.version)"
   ]
  },
  {
   "cell_type": "code",
   "execution_count": 17,
   "metadata": {},
   "outputs": [
    {
     "name": "stdout",
     "output_type": "stream",
     "text": [
      "0.2.10\n",
      "d:\\anaconda\\envs\\kari\\lib\\site-packages\\PyEMD\\__init__.py\n"
     ]
    }
   ],
   "source": [
    "# EMD-signal\n",
    "import PyEMD    \n",
    "print(PyEMD.__version__)\n",
    "print(PyEMD.__file__)"
   ]
  },
  {
   "cell_type": "code",
   "execution_count": 15,
   "metadata": {},
   "outputs": [
    {
     "ename": "AttributeError",
     "evalue": "module 'ewtpy' has no attribute '__version__'",
     "output_type": "error",
     "traceback": [
      "\u001b[1;31m---------------------------------------------------------------------------\u001b[0m",
      "\u001b[1;31mAttributeError\u001b[0m                            Traceback (most recent call last)",
      "\u001b[1;32mC:\\Users\\Public\\Documents\\Wondershare\\CreatorTemp\\ipykernel_6412\\582604774.py\u001b[0m in \u001b[0;36m<module>\u001b[1;34m\u001b[0m\n\u001b[0;32m      1\u001b[0m \u001b[1;32mimport\u001b[0m \u001b[0mewtpy\u001b[0m\u001b[1;33m\u001b[0m\u001b[1;33m\u001b[0m\u001b[0m\n\u001b[1;32m----> 2\u001b[1;33m \u001b[0mprint\u001b[0m\u001b[1;33m(\u001b[0m\u001b[0mewtpy\u001b[0m\u001b[1;33m.\u001b[0m\u001b[0m__version__\u001b[0m\u001b[1;33m)\u001b[0m\u001b[1;33m\u001b[0m\u001b[1;33m\u001b[0m\u001b[0m\n\u001b[0m\u001b[0;32m      3\u001b[0m \u001b[0mprint\u001b[0m\u001b[1;33m(\u001b[0m\u001b[0mewtpy\u001b[0m\u001b[1;33m.\u001b[0m\u001b[0m__file__\u001b[0m\u001b[1;33m)\u001b[0m\u001b[1;33m\u001b[0m\u001b[1;33m\u001b[0m\u001b[0m\n",
      "\u001b[1;31mAttributeError\u001b[0m: module 'ewtpy' has no attribute '__version__'"
     ]
    }
   ],
   "source": [
    "import ewtpy\n",
    "print(ewtpy.__version__)\n"
   ]
  },
  {
   "cell_type": "code",
   "execution_count": 5,
   "metadata": {},
   "outputs": [
    {
     "name": "stdout",
     "output_type": "stream",
     "text": [
      "0.2\n"
     ]
    }
   ],
   "source": [
    "import pkg_resources\n",
    "print(pkg_resources.get_distribution(\"ewtpy\").version)"
   ]
  },
  {
   "cell_type": "code",
   "execution_count": 7,
   "metadata": {},
   "outputs": [
    {
     "name": "stdout",
     "output_type": "stream",
     "text": [
      "2.10.0\n"
     ]
    }
   ],
   "source": [
    "import tensorflow\n",
    "print(tensorflow.__version__)"
   ]
  },
  {
   "cell_type": "markdown",
   "metadata": {},
   "source": [
    "# **Load Data**"
   ]
  },
  {
   "cell_type": "code",
   "execution_count": 1,
   "metadata": {},
   "outputs": [
    {
     "data": {
      "text/html": [
       "<div>\n",
       "<style scoped>\n",
       "    .dataframe tbody tr th:only-of-type {\n",
       "        vertical-align: middle;\n",
       "    }\n",
       "\n",
       "    .dataframe tbody tr th {\n",
       "        vertical-align: top;\n",
       "    }\n",
       "\n",
       "    .dataframe thead th {\n",
       "        text-align: right;\n",
       "    }\n",
       "</style>\n",
       "<table border=\"1\" class=\"dataframe\">\n",
       "  <thead>\n",
       "    <tr style=\"text-align: right;\">\n",
       "      <th></th>\n",
       "      <th>date</th>\n",
       "      <th>co2</th>\n",
       "    </tr>\n",
       "  </thead>\n",
       "  <tbody>\n",
       "    <tr>\n",
       "      <th>0</th>\n",
       "      <td>2019-01-01</td>\n",
       "      <td>32.267221</td>\n",
       "    </tr>\n",
       "    <tr>\n",
       "      <th>1</th>\n",
       "      <td>2019-01-02</td>\n",
       "      <td>31.713352</td>\n",
       "    </tr>\n",
       "    <tr>\n",
       "      <th>2</th>\n",
       "      <td>2019-01-03</td>\n",
       "      <td>30.632988</td>\n",
       "    </tr>\n",
       "    <tr>\n",
       "      <th>3</th>\n",
       "      <td>2019-01-04</td>\n",
       "      <td>31.433309</td>\n",
       "    </tr>\n",
       "    <tr>\n",
       "      <th>4</th>\n",
       "      <td>2019-01-05</td>\n",
       "      <td>31.437860</td>\n",
       "    </tr>\n",
       "    <tr>\n",
       "      <th>...</th>\n",
       "      <td>...</td>\n",
       "      <td>...</td>\n",
       "    </tr>\n",
       "    <tr>\n",
       "      <th>1942</th>\n",
       "      <td>2024-04-26</td>\n",
       "      <td>28.845392</td>\n",
       "    </tr>\n",
       "    <tr>\n",
       "      <th>1943</th>\n",
       "      <td>2024-04-27</td>\n",
       "      <td>28.874172</td>\n",
       "    </tr>\n",
       "    <tr>\n",
       "      <th>1944</th>\n",
       "      <td>2024-04-28</td>\n",
       "      <td>28.721022</td>\n",
       "    </tr>\n",
       "    <tr>\n",
       "      <th>1945</th>\n",
       "      <td>2024-04-29</td>\n",
       "      <td>29.371420</td>\n",
       "    </tr>\n",
       "    <tr>\n",
       "      <th>1946</th>\n",
       "      <td>2024-04-30</td>\n",
       "      <td>27.692711</td>\n",
       "    </tr>\n",
       "  </tbody>\n",
       "</table>\n",
       "<p>1947 rows × 2 columns</p>\n",
       "</div>"
      ],
      "text/plain": [
       "            date        co2\n",
       "0     2019-01-01  32.267221\n",
       "1     2019-01-02  31.713352\n",
       "2     2019-01-03  30.632988\n",
       "3     2019-01-04  31.433309\n",
       "4     2019-01-05  31.437860\n",
       "...          ...        ...\n",
       "1942  2024-04-26  28.845392\n",
       "1943  2024-04-27  28.874172\n",
       "1944  2024-04-28  28.721022\n",
       "1945  2024-04-29  29.371420\n",
       "1946  2024-04-30  27.692711\n",
       "\n",
       "[1947 rows x 2 columns]"
      ]
     },
     "execution_count": 1,
     "metadata": {},
     "output_type": "execute_result"
    }
   ],
   "source": [
    "# import pandas as pd\n",
    "# df = pd.read_csv('./dataset/data_CO2.csv')\n",
    "# df"
   ]
  },
  {
   "cell_type": "code",
   "execution_count": 17,
   "metadata": {},
   "outputs": [
    {
     "name": "stdout",
     "output_type": "stream",
     "text": [
      "数据集形状: (1944, 3) (1944, 1)\n",
      "训练集形状: (1360, 3) (1360, 1)\n",
      "验证集形状: (388, 3) (388, 1)\n",
      "测试集形状: (196, 3) (196, 1)\n"
     ]
    }
   ],
   "source": [
    "# from importlib import reload\n",
    "# import myfunctions\n",
    "# reload(myfunctions)  # 重新加载模块\n",
    "# from myfunctions import createXy, get_train_val_test\n",
    "\n",
    "# # (1)将一维时间序列转换为监督学习格式；(2)划分\n",
    "# # (1)\n",
    "# series = df.iloc[:, 1].values  # 从df中提取数值列，形成一维数组。# 形状 (1947,)\n",
    "# X, y = createXy(series, look_back=3)\n",
    "# print(\"数据集形状:\", X.shape, y.shape)  #(1944, 3) (1944, 1)\n",
    "# # (2)\n",
    "# X_train, X_val, X_test, y_train, y_val, y_test = get_train_val_test(X, y)\n",
    "# print(\"训练集形状:\", X_train.shape, y_train.shape)  #(1360, 3) (1360, 1)\n",
    "# print(\"验证集形状:\", X_val.shape, y_val.shape)      #(388, 3) (388, 1)\n",
    "# print(\"测试集形状:\", X_test.shape, y_test.shape)    #(196, 3) (196, 1)\n"
   ]
  },
  {
   "cell_type": "markdown",
   "metadata": {},
   "source": [
    "# **Model**\n"
   ]
  },
  {
   "cell_type": "markdown",
   "metadata": {},
   "source": [
    "## **ceemdan_ewt_lstm**"
   ]
  },
  {
   "cell_type": "code",
   "execution_count": 1,
   "metadata": {},
   "outputs": [
    {
     "name": "stdout",
     "output_type": "stream",
     "text": [
      "MAPE:0.598\n",
      "RMSE:0.242\n",
      "MAE:0.186\n",
      "r2:0.985\n"
     ]
    }
   ],
   "source": [
    "import pandas as pd\n",
    "df = pd.read_csv('./dataset/data_CO2.csv')\n",
    "\n",
    "from importlib import reload\n",
    "import myfunctions\n",
    "reload(myfunctions)  # 重新加载模块\n",
    "\n",
    "from myfunctions import ceemdan_ewt_lstm\n",
    "true,pred=ceemdan_ewt_lstm(df,look_back=6)"
   ]
  },
  {
   "cell_type": "code",
   "execution_count": 2,
   "metadata": {},
   "outputs": [
    {
     "data": {
      "image/png": "[encoded data removed]",
      "text/plain": [
       "<Figure size 1000x600 with 1 Axes>"
      ]
     },
     "metadata": {},
     "output_type": "display_data"
    }
   ],
   "source": [
    "import numpy as np\n",
    "import matplotlib.pyplot as plt\n",
    "from pandas.plotting import register_matplotlib_converters\n",
    "register_matplotlib_converters()\n",
    "#将上面两行代码放在你导入相关库（如pandas、matplotlib等）之后，绘制图形之前。这样就可以显式地注册转换器，避免未来版本出现问题。\n",
    "\n",
    "# plt.rcParams['font.sans-serif'] = ['SimHei']  #指定字体为黑体\n",
    "plt.rcParams['font.family'] = 'serif'          # 指定字体族为衬线字体\n",
    "plt.rcParams['font.serif'] = ['Times New Roman']  # 具体的衬线字体为 Times New Roman\n",
    "plt.rcParams['axes.unicode_minus'] = False  #用来正常显示负号\n",
    "\n",
    "# 创建一个图形和坐标轴对象\n",
    "fig, ax = plt.subplots(figsize=(10,6),tight_layout=True)\n",
    "\n",
    "x = np.arange(len(true))\n",
    "ax.plot(x, true, label='True value', linestyle='-', color='blue', linewidth=2)\n",
    "ax.plot(x, pred, label='Fitted value', linestyle='--', color='red', linewidth=2)\n",
    "\n",
    "ax.set_xlabel('Time/day', fontsize=10,  labelpad=10)\n",
    "ax.set_ylabel('Carbon Emissions/MT', fontsize=10,  labelpad=10)\n",
    "\n",
    "# 设置纵坐标范围\n",
    "y_min = min(min(true), min(pred)) - 0.5  # 稍微低于最小值\n",
    "y_max = max(max(true), max(pred)) + 0.5  # 稍微高于最大值\n",
    "ax.set_ylim(y_min, y_max)\n",
    "# 设置横坐标刻度间隔\n",
    "ax.set_xticks(np.arange(0, len(x), 20))\n",
    "\n",
    "ax.legend()\n",
    "ax.tick_params(direction='in')\n",
    "# plt.savefig('./figures/proposed_pre_en.png')\n",
    "plt.savefig('./figures/proposed_pre_en.tif', format='tiff', dpi=300, pil_kwargs={'compression': 'tiff_lzw'})"
   ]
  },
  {
   "cell_type": "markdown",
   "metadata": {},
   "source": [
    "## **lstm**"
   ]
  },
  {
   "cell_type": "code",
   "execution_count": 6,
   "metadata": {},
   "outputs": [
    {
     "name": "stdout",
     "output_type": "stream",
     "text": [
      "MAPE:1.644\n",
      "RMSE:0.670\n",
      "MAE:0.507\n",
      "r2:0.888\n"
     ]
    }
   ],
   "source": [
    "import pandas as pd\n",
    "df = pd.read_csv('./dataset/data_CO2.csv')\n",
    "\n",
    "from importlib import reload\n",
    "import myfunctions\n",
    "reload(myfunctions)  # 重新加载模块\n",
    "\n",
    "from myfunctions import lstm_model\n",
    "true,pred=lstm_model(df,look_back=6)"
   ]
  },
  {
   "cell_type": "markdown",
   "metadata": {},
   "source": [
    "## **svr**"
   ]
  },
  {
   "cell_type": "code",
   "execution_count": 4,
   "metadata": {},
   "outputs": [
    {
     "name": "stdout",
     "output_type": "stream",
     "text": [
      "MAPE:1.683\n",
      "RMSE:0.687\n",
      "MAE:0.521\n",
      "r2:0.882\n"
     ]
    }
   ],
   "source": [
    "import pandas as pd\n",
    "df = pd.read_csv('./dataset/data_CO2.csv')\n",
    "\n",
    "from importlib import reload\n",
    "import myfunctions\n",
    "reload(myfunctions)  # 重新加载模块\n",
    "\n",
    "from myfunctions import svr_model\n",
    "true,pred=svr_model(df,look_back=6)"
   ]
  },
  {
   "cell_type": "markdown",
   "metadata": {},
   "source": [
    "## **ann**"
   ]
  },
  {
   "cell_type": "code",
   "execution_count": 3,
   "metadata": {},
   "outputs": [
    {
     "name": "stdout",
     "output_type": "stream",
     "text": [
      "MAPE:1.702\n",
      "RMSE:0.691\n",
      "MAE:0.528\n",
      "r2:0.880\n"
     ]
    }
   ],
   "source": [
    "import pandas as pd\n",
    "df = pd.read_csv('./dataset/data_CO2.csv')\n",
    "\n",
    "from importlib import reload\n",
    "import myfunctions\n",
    "reload(myfunctions)  # 重新加载模块\n",
    "\n",
    "from myfunctions import ann_model\n",
    "true,pred=ann_model(df,look_back=6)"
   ]
  },
  {
   "cell_type": "markdown",
   "metadata": {},
   "source": [
    "## **rf**"
   ]
  },
  {
   "cell_type": "code",
   "execution_count": 5,
   "metadata": {
    "scrolled": false
   },
   "outputs": [
    {
     "name": "stdout",
     "output_type": "stream",
     "text": [
      "MAPE:1.680\n",
      "RMSE:0.679\n",
      "MAE:0.522\n",
      "r2:0.884\n"
     ]
    }
   ],
   "source": [
    "import pandas as pd\n",
    "df = pd.read_csv('./dataset/data_CO2.csv')\n",
    "\n",
    "from importlib import reload\n",
    "import myfunctions\n",
    "reload(myfunctions)  # 重新加载模块\n",
    "\n",
    "from myfunctions import rf_model\n",
    "true,pred=rf_model(df,look_back=6)"
   ]
  },
  {
   "cell_type": "markdown",
   "metadata": {},
   "source": [
    "## **emd_lstm**"
   ]
  },
  {
   "cell_type": "code",
   "execution_count": 7,
   "metadata": {
    "scrolled": true
   },
   "outputs": [
    {
     "name": "stdout",
     "output_type": "stream",
     "text": [
      "MAPE:1.043\n",
      "RMSE:0.423\n",
      "MAE:0.320\n",
      "r2:0.955\n"
     ]
    }
   ],
   "source": [
    "import pandas as pd\n",
    "df = pd.read_csv('./dataset/data_CO2.csv')\n",
    "\n",
    "from importlib import reload\n",
    "import myfunctions\n",
    "reload(myfunctions)  # 重新加载模块\n",
    "\n",
    "from myfunctions import emd_lstm\n",
    "true,pred=emd_lstm(df,look_back=6)"
   ]
  },
  {
   "cell_type": "markdown",
   "metadata": {},
   "source": [
    "## **eemd_lstm**"
   ]
  },
  {
   "cell_type": "code",
   "execution_count": 8,
   "metadata": {},
   "outputs": [
    {
     "name": "stdout",
     "output_type": "stream",
     "text": [
      "MAPE:1.064\n",
      "RMSE:0.417\n",
      "MAE:0.329\n",
      "r2:0.956\n"
     ]
    }
   ],
   "source": [
    "import pandas as pd\n",
    "df = pd.read_csv('./dataset/data_CO2.csv')\n",
    "\n",
    "from importlib import reload\n",
    "import myfunctions\n",
    "reload(myfunctions)  # 重新加载模块\n",
    "\n",
    "from myfunctions import eemd_lstm\n",
    "true,pred=eemd_lstm(df,look_back=6)"
   ]
  },
  {
   "cell_type": "markdown",
   "metadata": {},
   "source": [
    "## **ceemdan_lstm**"
   ]
  },
  {
   "cell_type": "code",
   "execution_count": 9,
   "metadata": {
    "scrolled": false
   },
   "outputs": [
    {
     "name": "stdout",
     "output_type": "stream",
     "text": [
      "MAPE:0.774\n",
      "RMSE:0.308\n",
      "MAE:0.239\n",
      "r2:0.976\n"
     ]
    }
   ],
   "source": [
    "import pandas as pd\n",
    "df = pd.read_csv('./dataset/data_CO2.csv')\n",
    "\n",
    "from importlib import reload\n",
    "import myfunctions\n",
    "reload(myfunctions)  # 重新加载模块\n",
    "\n",
    "from myfunctions import ceemdan_lstm\n",
    "true,pred=ceemdan_lstm(df,look_back=6)"
   ]
  },
  {
   "cell_type": "markdown",
   "metadata": {},
   "source": []
  },
  {
   "cell_type": "code",
   "execution_count": null,
   "metadata": {},
   "outputs": [],
   "source": []
  },
  {
   "cell_type": "code",
   "execution_count": null,
   "metadata": {},
   "outputs": [],
   "source": []
  }
 ],
 "metadata": {
  "kernelspec": {
   "display_name": "Python(kari)",
   "language": "python",
   "name": "kari"
  },
  "language_info": {
   "codemirror_mode": {
    "name": "ipython",
    "version": 3
   },
   "file_extension": ".py",
   "mimetype": "text/x-python",
   "name": "python",
   "nbconvert_exporter": "python",
   "pygments_lexer": "ipython3",
   "version": "3.7.6"
  },
  "toc": {
   "base_numbering": 1,
   "nav_menu": {},
   "number_sections": true,
   "sideBar": true,
   "skip_h1_title": false,
   "title_cell": "Table of Contents",
   "title_sidebar": "Contents",
   "toc_cell": false,
   "toc_position": {
    "height": "calc(100% - 180px)",
    "left": "10px",
    "top": "150px",
    "width": "169.105px"
   },
   "toc_section_display": true,
   "toc_window_display": true
  }
 },
 "nbformat": 4,
 "nbformat_minor": 4
}
